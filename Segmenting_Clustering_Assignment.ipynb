{
 "cells": [
  {
   "cell_type": "code",
   "execution_count": 1,
   "metadata": {
    "tags": []
   },
   "outputs": [
    {
     "output_type": "stream",
     "name": "stdout",
     "text": "Libraries imported.\n"
    }
   ],
   "source": [
    "import numpy as np # library to handle data in a vectorized manner\n",
    "\n",
    "import pandas as pd # library for data analsysis\n",
    "pd.set_option('display.max_columns', None)\n",
    "pd.set_option('display.max_rows', None)\n",
    "\n",
    "import json # library to handle JSON files\n",
    "\n",
    "#!conda install -c conda-forge geopy --yes # uncomment this line if you haven't completed the Foursquare API lab\n",
    "from geopy.geocoders import Nominatim # convert an address into latitude and longitude values\n",
    "import geocoder\n",
    "\n",
    "import requests # library to handle requests\n",
    "from pandas.io.json import json_normalize # tranform JSON file into a pandas dataframe\n",
    "\n",
    "# Matplotlib and associated plotting modules\n",
    "import matplotlib.cm as cm\n",
    "import matplotlib.colors as colors\n",
    "\n",
    "# import k-means from clustering stage\n",
    "from sklearn.cluster import KMeans\n",
    "\n",
    "#!conda install -c conda-forge folium=0.5.0 --yes # uncomment this line if you haven't completed the Foursquare API lab\n",
    "import folium # map rendering library\n",
    "\n",
    "from bs4 import BeautifulSoup\n",
    "import html5lib\n",
    "\n",
    "print('Libraries imported.')"
   ]
  },
  {
   "cell_type": "markdown",
   "metadata": {},
   "source": [
    "## Scrapping the Web page: "
   ]
  },
  {
   "cell_type": "code",
   "execution_count": 2,
   "metadata": {
    "tags": []
   },
   "outputs": [],
   "source": [
    "url = \"https://en.wikipedia.org/wiki/List_of_postal_codes_of_Canada:_M\"\n",
    "results = requests.get(url)\n",
    "soup = BeautifulSoup(results.content, 'html.parser')\n",
    "# print(soup.prettify())"
   ]
  },
  {
   "cell_type": "code",
   "execution_count": 3,
   "metadata": {
    "tags": []
   },
   "outputs": [
    {
     "output_type": "execute_result",
     "data": {
      "text/plain": "  Postal Code           Borough              Neighbourhood\n0         M1A      Not assigned               Not assigned\n1         M2A      Not assigned               Not assigned\n2         M3A        North York                  Parkwoods\n3         M4A        North York           Victoria Village\n4         M5A  Downtown Toronto  Regent Park, Harbourfront",
      "text/html": "<div>\n<style scoped>\n    .dataframe tbody tr th:only-of-type {\n        vertical-align: middle;\n    }\n\n    .dataframe tbody tr th {\n        vertical-align: top;\n    }\n\n    .dataframe thead th {\n        text-align: right;\n    }\n</style>\n<table border=\"1\" class=\"dataframe\">\n  <thead>\n    <tr style=\"text-align: right;\">\n      <th></th>\n      <th>Postal Code</th>\n      <th>Borough</th>\n      <th>Neighbourhood</th>\n    </tr>\n  </thead>\n  <tbody>\n    <tr>\n      <th>0</th>\n      <td>M1A</td>\n      <td>Not assigned</td>\n      <td>Not assigned</td>\n    </tr>\n    <tr>\n      <th>1</th>\n      <td>M2A</td>\n      <td>Not assigned</td>\n      <td>Not assigned</td>\n    </tr>\n    <tr>\n      <th>2</th>\n      <td>M3A</td>\n      <td>North York</td>\n      <td>Parkwoods</td>\n    </tr>\n    <tr>\n      <th>3</th>\n      <td>M4A</td>\n      <td>North York</td>\n      <td>Victoria Village</td>\n    </tr>\n    <tr>\n      <th>4</th>\n      <td>M5A</td>\n      <td>Downtown Toronto</td>\n      <td>Regent Park, Harbourfront</td>\n    </tr>\n  </tbody>\n</table>\n</div>"
     },
     "metadata": {},
     "execution_count": 3
    }
   ],
   "source": [
    "table_html = soup.find('table')\n",
    "table_pd = pd.read_html(str(table_html), flavor = 'html5lib')[0]\n",
    "table_pd.head()"
   ]
  },
  {
   "cell_type": "markdown",
   "metadata": {},
   "source": [
    "## Preparing the Dataframe:"
   ]
  },
  {
   "cell_type": "code",
   "execution_count": 4,
   "metadata": {},
   "outputs": [
    {
     "output_type": "execute_result",
     "data": {
      "text/plain": "  Postal Code      Borough                           Neighbourhood\n0         M1B  Scarborough                          Malvern, Rouge\n1         M1C  Scarborough  Rouge Hill, Port Union, Highland Creek\n2         M1E  Scarborough       Guildwood, Morningside, West Hill\n3         M1G  Scarborough                                  Woburn\n4         M1H  Scarborough                               Cedarbrae",
      "text/html": "<div>\n<style scoped>\n    .dataframe tbody tr th:only-of-type {\n        vertical-align: middle;\n    }\n\n    .dataframe tbody tr th {\n        vertical-align: top;\n    }\n\n    .dataframe thead th {\n        text-align: right;\n    }\n</style>\n<table border=\"1\" class=\"dataframe\">\n  <thead>\n    <tr style=\"text-align: right;\">\n      <th></th>\n      <th>Postal Code</th>\n      <th>Borough</th>\n      <th>Neighbourhood</th>\n    </tr>\n  </thead>\n  <tbody>\n    <tr>\n      <th>0</th>\n      <td>M1B</td>\n      <td>Scarborough</td>\n      <td>Malvern, Rouge</td>\n    </tr>\n    <tr>\n      <th>1</th>\n      <td>M1C</td>\n      <td>Scarborough</td>\n      <td>Rouge Hill, Port Union, Highland Creek</td>\n    </tr>\n    <tr>\n      <th>2</th>\n      <td>M1E</td>\n      <td>Scarborough</td>\n      <td>Guildwood, Morningside, West Hill</td>\n    </tr>\n    <tr>\n      <th>3</th>\n      <td>M1G</td>\n      <td>Scarborough</td>\n      <td>Woburn</td>\n    </tr>\n    <tr>\n      <th>4</th>\n      <td>M1H</td>\n      <td>Scarborough</td>\n      <td>Cedarbrae</td>\n    </tr>\n  </tbody>\n</table>\n</div>"
     },
     "metadata": {},
     "execution_count": 4
    }
   ],
   "source": [
    "table_pd = table_pd[table_pd.Borough!='Not assigned'].reset_index(drop=True)\n",
    "table_pd = table_pd.sort_values('Postal Code',axis = 0, ascending = True, ignore_index = True)\n",
    "table_pd.head()"
   ]
  },
  {
   "cell_type": "code",
   "execution_count": 10,
   "metadata": {},
   "outputs": [
    {
     "output_type": "execute_result",
     "data": {
      "text/plain": "(103, 3)"
     },
     "metadata": {},
     "execution_count": 10
    }
   ],
   "source": [
    "table_pd.shape"
   ]
  },
  {
   "cell_type": "code",
   "execution_count": 5,
   "metadata": {},
   "outputs": [],
   "source": [
    "postal_code_pd = pd.read_csv('Geospatial_Coordinates.csv')"
   ]
  },
  {
   "cell_type": "code",
   "execution_count": 6,
   "metadata": {},
   "outputs": [],
   "source": [
    "table_pd = table_pd.join(postal_code_pd[['Latitude','Longitude']])"
   ]
  },
  {
   "cell_type": "code",
   "execution_count": 27,
   "metadata": {},
   "outputs": [
    {
     "output_type": "execute_result",
     "data": {
      "text/plain": "  Postal Code      Borough                           Neighbourhood   Latitude  \\\n0         M1B  Scarborough                          Malvern, Rouge  43.806686   \n1         M1C  Scarborough  Rouge Hill, Port Union, Highland Creek  43.784535   \n2         M1E  Scarborough       Guildwood, Morningside, West Hill  43.763573   \n3         M1G  Scarborough                                  Woburn  43.770992   \n4         M1H  Scarborough                               Cedarbrae  43.773136   \n\n   Longitude  \n0 -79.194353  \n1 -79.160497  \n2 -79.188711  \n3 -79.216917  \n4 -79.239476  ",
      "text/html": "<div>\n<style scoped>\n    .dataframe tbody tr th:only-of-type {\n        vertical-align: middle;\n    }\n\n    .dataframe tbody tr th {\n        vertical-align: top;\n    }\n\n    .dataframe thead th {\n        text-align: right;\n    }\n</style>\n<table border=\"1\" class=\"dataframe\">\n  <thead>\n    <tr style=\"text-align: right;\">\n      <th></th>\n      <th>Postal Code</th>\n      <th>Borough</th>\n      <th>Neighbourhood</th>\n      <th>Latitude</th>\n      <th>Longitude</th>\n    </tr>\n  </thead>\n  <tbody>\n    <tr>\n      <th>0</th>\n      <td>M1B</td>\n      <td>Scarborough</td>\n      <td>Malvern, Rouge</td>\n      <td>43.806686</td>\n      <td>-79.194353</td>\n    </tr>\n    <tr>\n      <th>1</th>\n      <td>M1C</td>\n      <td>Scarborough</td>\n      <td>Rouge Hill, Port Union, Highland Creek</td>\n      <td>43.784535</td>\n      <td>-79.160497</td>\n    </tr>\n    <tr>\n      <th>2</th>\n      <td>M1E</td>\n      <td>Scarborough</td>\n      <td>Guildwood, Morningside, West Hill</td>\n      <td>43.763573</td>\n      <td>-79.188711</td>\n    </tr>\n    <tr>\n      <th>3</th>\n      <td>M1G</td>\n      <td>Scarborough</td>\n      <td>Woburn</td>\n      <td>43.770992</td>\n      <td>-79.216917</td>\n    </tr>\n    <tr>\n      <th>4</th>\n      <td>M1H</td>\n      <td>Scarborough</td>\n      <td>Cedarbrae</td>\n      <td>43.773136</td>\n      <td>-79.239476</td>\n    </tr>\n  </tbody>\n</table>\n</div>"
     },
     "metadata": {},
     "execution_count": 27
    }
   ],
   "source": [
    "table_pd.head()"
   ]
  },
  {
   "cell_type": "markdown",
   "metadata": {},
   "source": [
    "#### Plotting map of Toronto with labels:"
   ]
  },
  {
   "cell_type": "code",
   "execution_count": 7,
   "metadata": {},
   "outputs": [],
   "source": [
    "address = 'Toronto, ON'\n",
    "\n",
    "geolocator = Nominatim(user_agent=\"ny_explorer\")\n",
    "location = geolocator.geocode(address)\n",
    "latitude_toronto = location.latitude\n",
    "longitude_toronto = location.longitude"
   ]
  },
  {
   "cell_type": "code",
   "execution_count": 40,
   "metadata": {
    "tags": []
   },
   "outputs": [],
   "source": [
    "map_toronto = folium.Map(location=[latitude_toronto, longitude_toronto], zoom_start=10)\n",
    "\n",
    "for lat, lon, code, borough in zip(table_pd['Latitude'],table_pd['Longitude'], table_pd['Postal Code'], table_pd['Borough']):\n",
    "    # print('{}, {}, {}'.format(label, lon, lat))\n",
    "    label = '{}, {}'.format(code, borough)\n",
    "    label = folium.Popup(label, parse_html=True)\n",
    "    folium.CircleMarker(\n",
    "        [lat, lon],\n",
    "        radius=5,\n",
    "        popup=label,\n",
    "        color='blue',\n",
    "        fill=True,\n",
    "        fill_color='#3186cc',\n",
    "        fill_opacity=0.7,\n",
    "        parse_html=False).add_to(map_toronto)  \n",
    "\n",
    "# map_toronto"
   ]
  },
  {
   "cell_type": "markdown",
   "metadata": {},
   "source": [
    "## Exploring and Clustering"
   ]
  },
  {
   "cell_type": "markdown",
   "metadata": {},
   "source": [
    "### Setting up the Four Square API:"
   ]
  },
  {
   "cell_type": "code",
   "execution_count": 9,
   "metadata": {},
   "outputs": [],
   "source": [
    "CLIENT_ID = 'TWQNBUQDQIII1KZJ0RTLFNG0NR15AVJIZU5KFPHM3ANEHMHU' # your Foursquare ID\n",
    "CLIENT_SECRET = 'VD0GO1D1LCR1T5GYDJHBVXS4REOQD4KVWSADZAZGKXOAQ1DU' # your Foursquare Secret\n",
    "VERSION = '20180605' # Foursquare API version"
   ]
  },
  {
   "cell_type": "markdown",
   "metadata": {},
   "source": [
    "### Getting the top 100 venues that are in Marble Hill within a radius of 500 meters."
   ]
  },
  {
   "cell_type": "code",
   "execution_count": 10,
   "metadata": {},
   "outputs": [],
   "source": [
    "LIMIT = 100\n",
    "radius = 500\n",
    "\n",
    "neighborhood_latitude = 43.7116948\n",
    "neighborhood_longitude = -79.4169356\n",
    "\n",
    "url = 'https://api.foursquare.com/v2/venues/explore?client_id={}&client_secret={}&ll={},{}&v={}&radius={}&limit={}'.format(CLIENT_ID, CLIENT_SECRET, neighborhood_latitude, neighborhood_longitude, VERSION, radius, LIMIT)\n"
   ]
  },
  {
   "cell_type": "code",
   "execution_count": 11,
   "metadata": {},
   "outputs": [],
   "source": [
    "results = requests.get(url).json()"
   ]
  },
  {
   "cell_type": "code",
   "execution_count": 12,
   "metadata": {},
   "outputs": [
    {
     "output_type": "execute_result",
     "data": {
      "text/plain": "                       referralId  reasons.count  \\\n0  e-0-4e6e176c45dd293273b74e3c-0              0   \n1  e-0-5e85459eb00ff700074aea96-1              0   \n\n                                       reasons.items  \\\n0  [{'summary': 'This spot is popular', 'type': '...   \n1  [{'summary': 'This spot is popular', 'type': '...   \n\n                   venue.id                  venue.name  venue.location.lat  \\\n0  4e6e176c45dd293273b74e3c     Rosalind's Garden Oasis           43.712189   \n1  5e85459eb00ff700074aea96  THA Home Additions Toronto           43.708369   \n\n   venue.location.lng                      venue.location.labeledLatLngs  \\\n0          -79.411978  [{'label': 'display', 'lat': 43.71218888050602...   \n1          -79.420434  [{'label': 'display', 'lat': 43.70836906038992...   \n\n   venue.location.distance venue.location.cc venue.location.city  \\\n0                      402                CA             Toronto   \n1                      465                CA             Toronto   \n\n  venue.location.state venue.location.country  \\\n0                   ON                 Canada   \n1                   ON                 Canada   \n\n                     venue.location.formattedAddress  \\\n0                               [Toronto ON, Canada]   \n1  [485 Eglington Ave E #102 D, Toronto ON M4P 1N...   \n\n                                    venue.categories  venue.photos.count  \\\n0  [{'id': '4bf58dd8d48988d15a941735', 'name': 'G...                   0   \n1  [{'id': '545419b1498ea6ccd0202f58', 'name': 'H...                   0   \n\n  venue.photos.groups      venue.location.address venue.location.postalCode  \n0                  []                         NaN                       NaN  \n1                  []  485 Eglington Ave E #102 D                   M4P 1N2  ",
      "text/html": "<div>\n<style scoped>\n    .dataframe tbody tr th:only-of-type {\n        vertical-align: middle;\n    }\n\n    .dataframe tbody tr th {\n        vertical-align: top;\n    }\n\n    .dataframe thead th {\n        text-align: right;\n    }\n</style>\n<table border=\"1\" class=\"dataframe\">\n  <thead>\n    <tr style=\"text-align: right;\">\n      <th></th>\n      <th>referralId</th>\n      <th>reasons.count</th>\n      <th>reasons.items</th>\n      <th>venue.id</th>\n      <th>venue.name</th>\n      <th>venue.location.lat</th>\n      <th>venue.location.lng</th>\n      <th>venue.location.labeledLatLngs</th>\n      <th>venue.location.distance</th>\n      <th>venue.location.cc</th>\n      <th>venue.location.city</th>\n      <th>venue.location.state</th>\n      <th>venue.location.country</th>\n      <th>venue.location.formattedAddress</th>\n      <th>venue.categories</th>\n      <th>venue.photos.count</th>\n      <th>venue.photos.groups</th>\n      <th>venue.location.address</th>\n      <th>venue.location.postalCode</th>\n    </tr>\n  </thead>\n  <tbody>\n    <tr>\n      <th>0</th>\n      <td>e-0-4e6e176c45dd293273b74e3c-0</td>\n      <td>0</td>\n      <td>[{'summary': 'This spot is popular', 'type': '...</td>\n      <td>4e6e176c45dd293273b74e3c</td>\n      <td>Rosalind's Garden Oasis</td>\n      <td>43.712189</td>\n      <td>-79.411978</td>\n      <td>[{'label': 'display', 'lat': 43.71218888050602...</td>\n      <td>402</td>\n      <td>CA</td>\n      <td>Toronto</td>\n      <td>ON</td>\n      <td>Canada</td>\n      <td>[Toronto ON, Canada]</td>\n      <td>[{'id': '4bf58dd8d48988d15a941735', 'name': 'G...</td>\n      <td>0</td>\n      <td>[]</td>\n      <td>NaN</td>\n      <td>NaN</td>\n    </tr>\n    <tr>\n      <th>1</th>\n      <td>e-0-5e85459eb00ff700074aea96-1</td>\n      <td>0</td>\n      <td>[{'summary': 'This spot is popular', 'type': '...</td>\n      <td>5e85459eb00ff700074aea96</td>\n      <td>THA Home Additions Toronto</td>\n      <td>43.708369</td>\n      <td>-79.420434</td>\n      <td>[{'label': 'display', 'lat': 43.70836906038992...</td>\n      <td>465</td>\n      <td>CA</td>\n      <td>Toronto</td>\n      <td>ON</td>\n      <td>Canada</td>\n      <td>[485 Eglington Ave E #102 D, Toronto ON M4P 1N...</td>\n      <td>[{'id': '545419b1498ea6ccd0202f58', 'name': 'H...</td>\n      <td>0</td>\n      <td>[]</td>\n      <td>485 Eglington Ave E #102 D</td>\n      <td>M4P 1N2</td>\n    </tr>\n  </tbody>\n</table>\n</div>"
     },
     "metadata": {},
     "execution_count": 12
    }
   ],
   "source": [
    "venues = results['response']['groups'][0]['items']\n",
    "nearby_venues = json_normalize(venues)\n",
    "nearby_venues.head()"
   ]
  },
  {
   "cell_type": "code",
   "execution_count": 13,
   "metadata": {},
   "outputs": [],
   "source": [
    "filtered_columns = ['venue.name', 'venue.categories', 'venue.location.lat', 'venue.location.lng']\n",
    "# type(nearby_venues.loc[:,filtered_columns])\n",
    "nearby_venues = nearby_venues[filtered_columns]"
   ]
  },
  {
   "cell_type": "code",
   "execution_count": 73,
   "metadata": {},
   "outputs": [],
   "source": [
    "# nearby_venues.loc[1,'venue.categories'][0]"
   ]
  },
  {
   "cell_type": "code",
   "execution_count": 14,
   "metadata": {},
   "outputs": [],
   "source": [
    "def get_category_type(row):\n",
    "    try:\n",
    "        categories_list = row['categories']\n",
    "    except:\n",
    "        categories_list = row['venue.categories']\n",
    "    \n",
    "    if len(categories_list)==0:\n",
    "        return None\n",
    "    else:\n",
    "        return categories_list[0]['name']"
   ]
  },
  {
   "cell_type": "code",
   "execution_count": 15,
   "metadata": {},
   "outputs": [],
   "source": [
    "nearby_venues['venue.categories'] = nearby_venues.apply(get_category_type,axis=1)"
   ]
  },
  {
   "cell_type": "code",
   "execution_count": 16,
   "metadata": {},
   "outputs": [],
   "source": [
    "nearby_venues.columns = map(str.title,[col_name.split('.')[-1] for col_name in nearby_venues.columns])"
   ]
  },
  {
   "cell_type": "code",
   "execution_count": 17,
   "metadata": {},
   "outputs": [
    {
     "output_type": "execute_result",
     "data": {
      "text/plain": "                         Name    Categories        Lat        Lng\n0     Rosalind's Garden Oasis        Garden  43.712189 -79.411978\n1  THA Home Additions Toronto  Home Service  43.708369 -79.420434",
      "text/html": "<div>\n<style scoped>\n    .dataframe tbody tr th:only-of-type {\n        vertical-align: middle;\n    }\n\n    .dataframe tbody tr th {\n        vertical-align: top;\n    }\n\n    .dataframe thead th {\n        text-align: right;\n    }\n</style>\n<table border=\"1\" class=\"dataframe\">\n  <thead>\n    <tr style=\"text-align: right;\">\n      <th></th>\n      <th>Name</th>\n      <th>Categories</th>\n      <th>Lat</th>\n      <th>Lng</th>\n    </tr>\n  </thead>\n  <tbody>\n    <tr>\n      <th>0</th>\n      <td>Rosalind's Garden Oasis</td>\n      <td>Garden</td>\n      <td>43.712189</td>\n      <td>-79.411978</td>\n    </tr>\n    <tr>\n      <th>1</th>\n      <td>THA Home Additions Toronto</td>\n      <td>Home Service</td>\n      <td>43.708369</td>\n      <td>-79.420434</td>\n    </tr>\n  </tbody>\n</table>\n</div>"
     },
     "metadata": {},
     "execution_count": 17
    }
   ],
   "source": [
    "nearby_venues.head()"
   ]
  },
  {
   "cell_type": "code",
   "execution_count": 24,
   "metadata": {},
   "outputs": [],
   "source": [
    "import time"
   ]
  },
  {
   "cell_type": "code",
   "execution_count": 46,
   "metadata": {
    "tags": []
   },
   "outputs": [
    {
     "output_type": "stream",
     "name": "stdout",
     "text": "M1B,Scarborough\nM1C,Scarborough\nM1E,Scarborough\nM1G,Scarborough\nM1H,Scarborough\nM1J,Scarborough\nM1K,Scarborough\nM1L,Scarborough\nM1M,Scarborough\nM1N,Scarborough\nM1P,Scarborough\nM1R,Scarborough\nM1S,Scarborough\nM1T,Scarborough\nM1V,Scarborough\nM1W,Scarborough\nM1X,Scarborough\nM2H,North York\nM2J,North York\nM2K,North York\nM2L,North York\nM2M,North York\nM2N,North York\nM2P,North York\nM2R,North York\nM3A,North York\nM3B,North York\nM3C,North York\nM3H,North York\nM3J,North York\nM3K,North York\nM3L,North York\nM3M,North York\nM3N,North York\nM4A,North York\nM4B,East York\nM4C,East York\nM4E,East Toronto\nM4G,East York\nM4H,East York\nM4J,East York\nM4K,East Toronto\nM4L,East Toronto\nM4M,East Toronto\nM4N,Central Toronto\nM4P,Central Toronto\nM4R,Central Toronto\nM4S,Central Toronto\nM4T,Central Toronto\nM4V,Central Toronto\nM4W,Downtown Toronto\nM4X,Downtown Toronto\nM4Y,Downtown Toronto\nM5A,Downtown Toronto\nM5B,Downtown Toronto\nM5C,Downtown Toronto\nM5E,Downtown Toronto\nM5G,Downtown Toronto\nM5H,Downtown Toronto\nM5J,Downtown Toronto\nM5K,Downtown Toronto\nM5L,Downtown Toronto\nM5M,North York\nM5N,Central Toronto\nM5P,Central Toronto\nM5R,Central Toronto\nM5S,Downtown Toronto\nM5T,Downtown Toronto\nM5V,Downtown Toronto\nM5W,Downtown Toronto\nM5X,Downtown Toronto\nM6A,North York\nM6B,North York\nM6C,York\nM6E,York\nM6G,Downtown Toronto\nM6H,West Toronto\nM6J,West Toronto\nM6K,West Toronto\nM6L,North York\nM6M,York\nM6N,York\nM6P,West Toronto\nM6R,West Toronto\nM6S,West Toronto\nM7A,Downtown Toronto\nM7R,Mississauga\nM7Y,East Toronto\nM8V,Etobicoke\nM8W,Etobicoke\nM8X,Etobicoke\nM8Y,Etobicoke\nM8Z,Etobicoke\nM9A,Etobicoke\nM9B,Etobicoke\nM9C,Etobicoke\nM9L,North York\nM9M,North York\nM9N,York\nM9P,Etobicoke\nM9R,Etobicoke\nM9V,Etobicoke\nM9W,Etobicoke\n"
    }
   ],
   "source": [
    "borough_venue = pd.DataFrame()\n",
    "for postal_code, borough, borough_lat, borough_lng in zip(table_pd['Postal Code'], table_pd['Borough'], table_pd['Latitude'], table_pd['Longitude']):\n",
    "    print('{},{}'.format(postal_code,borough))\n",
    "    url = 'https://api.foursquare.com/v2/venues/explore?client_id={}&client_secret={}&ll={},{}&v={}&radius={}&limit={}'.format(CLIENT_ID, CLIENT_SECRET, borough_lat, borough_lng, VERSION, radius, LIMIT)\n",
    "    nearby_venues = json_normalize(requests.get(url).json()['response']['groups'][0]['items'])\n",
    "    # print(len(nearby_venues.columns))\n",
    "    if len(nearby_venues.columns)>=1:\n",
    "        # print('yes')\n",
    "        nearby_venues = nearby_venues[filtered_columns]\n",
    "        # print(nearby_venues[filtered_columns])\n",
    "        nearby_venues['venue.categories'] = nearby_venues.apply(get_category_type, axis=1)\n",
    "        nearby_venues.columns = map(str.title,[col_name.split('.')[-1] for col_name in nearby_venues.columns])\n",
    "        nearby_venues['Postal Code'] = postal_code \n",
    "        nearby_venues['Borough'] = borough\n",
    "        nearby_venues['Postal Code latitude'] = borough_lat \n",
    "        nearby_venues['Postal Code longitude'] = borough_lng\n",
    "        nearby_venues\n",
    "        # time.sleep(8) \n",
    "        borough_venue = borough_venue.append(nearby_venues)"
   ]
  },
  {
   "cell_type": "code",
   "execution_count": 48,
   "metadata": {
    "tags": []
   },
   "outputs": [
    {
     "output_type": "execute_result",
     "data": {
      "text/plain": "       Borough Postal Code  Postal Code latitude  Postal Code longitude  \\\n0  Scarborough         M1B             43.806686             -79.194353   \n0  Scarborough         M1C             43.784535             -79.160497   \n1  Scarborough         M1C             43.784535             -79.160497   \n0  Scarborough         M1E             43.763573             -79.188711   \n1  Scarborough         M1E             43.763573             -79.188711   \n\n                    Name            Categories        Lat        Lng  \n0                Wendy’s  Fast Food Restaurant  43.807448 -79.199056  \n0      RIGHT WAY TO GOLF           Golf Course  43.785177 -79.161108  \n1  Royal Canadian Legion                   Bar  43.782533 -79.163085  \n0         RBC Royal Bank                  Bank  43.766790 -79.191151  \n1      G & G Electronics     Electronics Store  43.765309 -79.191537  ",
      "text/html": "<div>\n<style scoped>\n    .dataframe tbody tr th:only-of-type {\n        vertical-align: middle;\n    }\n\n    .dataframe tbody tr th {\n        vertical-align: top;\n    }\n\n    .dataframe thead th {\n        text-align: right;\n    }\n</style>\n<table border=\"1\" class=\"dataframe\">\n  <thead>\n    <tr style=\"text-align: right;\">\n      <th></th>\n      <th>Borough</th>\n      <th>Postal Code</th>\n      <th>Postal Code latitude</th>\n      <th>Postal Code longitude</th>\n      <th>Name</th>\n      <th>Categories</th>\n      <th>Lat</th>\n      <th>Lng</th>\n    </tr>\n  </thead>\n  <tbody>\n    <tr>\n      <th>0</th>\n      <td>Scarborough</td>\n      <td>M1B</td>\n      <td>43.806686</td>\n      <td>-79.194353</td>\n      <td>Wendy’s</td>\n      <td>Fast Food Restaurant</td>\n      <td>43.807448</td>\n      <td>-79.199056</td>\n    </tr>\n    <tr>\n      <th>0</th>\n      <td>Scarborough</td>\n      <td>M1C</td>\n      <td>43.784535</td>\n      <td>-79.160497</td>\n      <td>RIGHT WAY TO GOLF</td>\n      <td>Golf Course</td>\n      <td>43.785177</td>\n      <td>-79.161108</td>\n    </tr>\n    <tr>\n      <th>1</th>\n      <td>Scarborough</td>\n      <td>M1C</td>\n      <td>43.784535</td>\n      <td>-79.160497</td>\n      <td>Royal Canadian Legion</td>\n      <td>Bar</td>\n      <td>43.782533</td>\n      <td>-79.163085</td>\n    </tr>\n    <tr>\n      <th>0</th>\n      <td>Scarborough</td>\n      <td>M1E</td>\n      <td>43.763573</td>\n      <td>-79.188711</td>\n      <td>RBC Royal Bank</td>\n      <td>Bank</td>\n      <td>43.766790</td>\n      <td>-79.191151</td>\n    </tr>\n    <tr>\n      <th>1</th>\n      <td>Scarborough</td>\n      <td>M1E</td>\n      <td>43.763573</td>\n      <td>-79.188711</td>\n      <td>G &amp; G Electronics</td>\n      <td>Electronics Store</td>\n      <td>43.765309</td>\n      <td>-79.191537</td>\n    </tr>\n  </tbody>\n</table>\n</div>"
     },
     "metadata": {},
     "execution_count": 48
    }
   ],
   "source": [
    " borough_venue = borough_venue[['Borough','Postal Code','Postal Code latitude', 'Postal Code longitude','Name', 'Categories', 'Lat','Lng']]\n",
    " borough_venue.head() "
   ]
  },
  {
   "cell_type": "code",
   "execution_count": 52,
   "metadata": {},
   "outputs": [
    {
     "output_type": "execute_result",
     "data": {
      "text/plain": "array(['Scarborough', 'North York', 'East York', 'East Toronto',\n       'Central Toronto', 'Downtown Toronto', 'York', 'West Toronto',\n       'Mississauga', 'Etobicoke'], dtype=object)"
     },
     "metadata": {},
     "execution_count": 52
    }
   ],
   "source": [
    "borough_venue.shape\n",
    "borough_venue['Borough'].unique()"
   ]
  },
  {
   "cell_type": "code",
   "execution_count": 76,
   "metadata": {},
   "outputs": [
    {
     "output_type": "execute_result",
     "data": {
      "text/plain": "                  Postal Code  Postal Code latitude  Postal Code longitude  \\\nBorough                                                                      \nCentral Toronto           115                   115                    115   \nDowntown Toronto         1242                  1242                   1242   \nEast Toronto              123                   123                    123   \nEast York                  74                    74                     74   \nEtobicoke                  73                    73                     73   \nMississauga                13                    13                     13   \nNorth York                244                   244                    244   \nScarborough                93                    93                     93   \nWest Toronto              159                   159                    159   \nYork                       16                    16                     16   \n\n                  Name  Categories   Lat   Lng  \nBorough                                         \nCentral Toronto    115         115   115   115  \nDowntown Toronto  1242        1242  1242  1242  \nEast Toronto       123         123   123   123  \nEast York           74          74    74    74  \nEtobicoke           73          73    73    73  \nMississauga         13          13    13    13  \nNorth York         244         244   244   244  \nScarborough         93          93    93    93  \nWest Toronto       159         159   159   159  \nYork                16          16    16    16  ",
      "text/html": "<div>\n<style scoped>\n    .dataframe tbody tr th:only-of-type {\n        vertical-align: middle;\n    }\n\n    .dataframe tbody tr th {\n        vertical-align: top;\n    }\n\n    .dataframe thead th {\n        text-align: right;\n    }\n</style>\n<table border=\"1\" class=\"dataframe\">\n  <thead>\n    <tr style=\"text-align: right;\">\n      <th></th>\n      <th>Postal Code</th>\n      <th>Postal Code latitude</th>\n      <th>Postal Code longitude</th>\n      <th>Name</th>\n      <th>Categories</th>\n      <th>Lat</th>\n      <th>Lng</th>\n    </tr>\n    <tr>\n      <th>Borough</th>\n      <th></th>\n      <th></th>\n      <th></th>\n      <th></th>\n      <th></th>\n      <th></th>\n      <th></th>\n    </tr>\n  </thead>\n  <tbody>\n    <tr>\n      <th>Central Toronto</th>\n      <td>115</td>\n      <td>115</td>\n      <td>115</td>\n      <td>115</td>\n      <td>115</td>\n      <td>115</td>\n      <td>115</td>\n    </tr>\n    <tr>\n      <th>Downtown Toronto</th>\n      <td>1242</td>\n      <td>1242</td>\n      <td>1242</td>\n      <td>1242</td>\n      <td>1242</td>\n      <td>1242</td>\n      <td>1242</td>\n    </tr>\n    <tr>\n      <th>East Toronto</th>\n      <td>123</td>\n      <td>123</td>\n      <td>123</td>\n      <td>123</td>\n      <td>123</td>\n      <td>123</td>\n      <td>123</td>\n    </tr>\n    <tr>\n      <th>East York</th>\n      <td>74</td>\n      <td>74</td>\n      <td>74</td>\n      <td>74</td>\n      <td>74</td>\n      <td>74</td>\n      <td>74</td>\n    </tr>\n    <tr>\n      <th>Etobicoke</th>\n      <td>73</td>\n      <td>73</td>\n      <td>73</td>\n      <td>73</td>\n      <td>73</td>\n      <td>73</td>\n      <td>73</td>\n    </tr>\n    <tr>\n      <th>Mississauga</th>\n      <td>13</td>\n      <td>13</td>\n      <td>13</td>\n      <td>13</td>\n      <td>13</td>\n      <td>13</td>\n      <td>13</td>\n    </tr>\n    <tr>\n      <th>North York</th>\n      <td>244</td>\n      <td>244</td>\n      <td>244</td>\n      <td>244</td>\n      <td>244</td>\n      <td>244</td>\n      <td>244</td>\n    </tr>\n    <tr>\n      <th>Scarborough</th>\n      <td>93</td>\n      <td>93</td>\n      <td>93</td>\n      <td>93</td>\n      <td>93</td>\n      <td>93</td>\n      <td>93</td>\n    </tr>\n    <tr>\n      <th>West Toronto</th>\n      <td>159</td>\n      <td>159</td>\n      <td>159</td>\n      <td>159</td>\n      <td>159</td>\n      <td>159</td>\n      <td>159</td>\n    </tr>\n    <tr>\n      <th>York</th>\n      <td>16</td>\n      <td>16</td>\n      <td>16</td>\n      <td>16</td>\n      <td>16</td>\n      <td>16</td>\n      <td>16</td>\n    </tr>\n  </tbody>\n</table>\n</div>"
     },
     "metadata": {},
     "execution_count": 76
    }
   ],
   "source": [
    "borough_venue.groupby(borough_venue['Borough']).count()"
   ]
  },
  {
   "cell_type": "code",
   "execution_count": 60,
   "metadata": {},
   "outputs": [
    {
     "output_type": "execute_result",
     "data": {
      "text/plain": "  Borough Postal Code  Postal Code latitude  Postal Code longitude  \\\n0    York         M6C             43.693781             -79.428191   \n1    York         M6C             43.693781             -79.428191   \n2    York         M6C             43.693781             -79.428191   \n0    York         M6E             43.689026             -79.453512   \n1    York         M6E             43.689026             -79.453512   \n\n               Name     Categories        Lat        Lng  \n0    Cedarvale Park          Field  43.692535 -79.428705  \n1  Cedarvale Ravine          Trail  43.690188 -79.426106  \n2  Phil White Arena   Hockey Arena  43.691303 -79.431761  \n0        Nairn Park           Park  43.690654 -79.456300  \n1     Maximum Woman  Women's Store  43.690651 -79.456333  ",
      "text/html": "<div>\n<style scoped>\n    .dataframe tbody tr th:only-of-type {\n        vertical-align: middle;\n    }\n\n    .dataframe tbody tr th {\n        vertical-align: top;\n    }\n\n    .dataframe thead th {\n        text-align: right;\n    }\n</style>\n<table border=\"1\" class=\"dataframe\">\n  <thead>\n    <tr style=\"text-align: right;\">\n      <th></th>\n      <th>Borough</th>\n      <th>Postal Code</th>\n      <th>Postal Code latitude</th>\n      <th>Postal Code longitude</th>\n      <th>Name</th>\n      <th>Categories</th>\n      <th>Lat</th>\n      <th>Lng</th>\n    </tr>\n  </thead>\n  <tbody>\n    <tr>\n      <th>0</th>\n      <td>York</td>\n      <td>M6C</td>\n      <td>43.693781</td>\n      <td>-79.428191</td>\n      <td>Cedarvale Park</td>\n      <td>Field</td>\n      <td>43.692535</td>\n      <td>-79.428705</td>\n    </tr>\n    <tr>\n      <th>1</th>\n      <td>York</td>\n      <td>M6C</td>\n      <td>43.693781</td>\n      <td>-79.428191</td>\n      <td>Cedarvale Ravine</td>\n      <td>Trail</td>\n      <td>43.690188</td>\n      <td>-79.426106</td>\n    </tr>\n    <tr>\n      <th>2</th>\n      <td>York</td>\n      <td>M6C</td>\n      <td>43.693781</td>\n      <td>-79.428191</td>\n      <td>Phil White Arena</td>\n      <td>Hockey Arena</td>\n      <td>43.691303</td>\n      <td>-79.431761</td>\n    </tr>\n    <tr>\n      <th>0</th>\n      <td>York</td>\n      <td>M6E</td>\n      <td>43.689026</td>\n      <td>-79.453512</td>\n      <td>Nairn Park</td>\n      <td>Park</td>\n      <td>43.690654</td>\n      <td>-79.456300</td>\n    </tr>\n    <tr>\n      <th>1</th>\n      <td>York</td>\n      <td>M6E</td>\n      <td>43.689026</td>\n      <td>-79.453512</td>\n      <td>Maximum Woman</td>\n      <td>Women's Store</td>\n      <td>43.690651</td>\n      <td>-79.456333</td>\n    </tr>\n  </tbody>\n</table>\n</div>"
     },
     "metadata": {},
     "execution_count": 60
    }
   ],
   "source": [
    "# borough_toronto_venu = borough_venue.loc[\"Toronto\" in borough_venue['Borough']]\n",
    "borough_toronto_venu = borough_venue.loc[ borough_venue['Borough'] == 'York']\n",
    "borough_toronto_venu.head()"
   ]
  },
  {
   "cell_type": "code",
   "execution_count": 78,
   "metadata": {
    "tags": []
   },
   "outputs": [
    {
     "output_type": "execute_result",
     "data": {
      "text/plain": "                  Postal Code  Postal Code latitude  Postal Code longitude  \\\nBorough                                                                      \nCentral Toronto           115                   115                    115   \nDowntown Toronto         1242                  1242                   1242   \nEast Toronto              123                   123                    123   \nWest Toronto              159                   159                    159   \n\n                  Name  Categories   Lat   Lng  \nBorough                                         \nCentral Toronto    115         115   115   115  \nDowntown Toronto  1242        1242  1242  1242  \nEast Toronto       123         123   123   123  \nWest Toronto       159         159   159   159  ",
      "text/html": "<div>\n<style scoped>\n    .dataframe tbody tr th:only-of-type {\n        vertical-align: middle;\n    }\n\n    .dataframe tbody tr th {\n        vertical-align: top;\n    }\n\n    .dataframe thead th {\n        text-align: right;\n    }\n</style>\n<table border=\"1\" class=\"dataframe\">\n  <thead>\n    <tr style=\"text-align: right;\">\n      <th></th>\n      <th>Postal Code</th>\n      <th>Postal Code latitude</th>\n      <th>Postal Code longitude</th>\n      <th>Name</th>\n      <th>Categories</th>\n      <th>Lat</th>\n      <th>Lng</th>\n    </tr>\n    <tr>\n      <th>Borough</th>\n      <th></th>\n      <th></th>\n      <th></th>\n      <th></th>\n      <th></th>\n      <th></th>\n      <th></th>\n    </tr>\n  </thead>\n  <tbody>\n    <tr>\n      <th>Central Toronto</th>\n      <td>115</td>\n      <td>115</td>\n      <td>115</td>\n      <td>115</td>\n      <td>115</td>\n      <td>115</td>\n      <td>115</td>\n    </tr>\n    <tr>\n      <th>Downtown Toronto</th>\n      <td>1242</td>\n      <td>1242</td>\n      <td>1242</td>\n      <td>1242</td>\n      <td>1242</td>\n      <td>1242</td>\n      <td>1242</td>\n    </tr>\n    <tr>\n      <th>East Toronto</th>\n      <td>123</td>\n      <td>123</td>\n      <td>123</td>\n      <td>123</td>\n      <td>123</td>\n      <td>123</td>\n      <td>123</td>\n    </tr>\n    <tr>\n      <th>West Toronto</th>\n      <td>159</td>\n      <td>159</td>\n      <td>159</td>\n      <td>159</td>\n      <td>159</td>\n      <td>159</td>\n      <td>159</td>\n    </tr>\n  </tbody>\n</table>\n</div>"
     },
     "metadata": {},
     "execution_count": 78
    }
   ],
   "source": [
    "# list('Toronto' in x for x in borough_venue['Borough'])  \n",
    "borough_toronto_venue = borough_venue.loc[list('Toronto' in x for x in borough_venue['Borough'])]\n",
    "# borough_toronto_venu\n",
    "borough_toronto_venue['Borough'].unique()\n",
    "borough_toronto_venue.groupby(borough_toronto_venue['Borough']).count()"
   ]
  }
 ],
 "metadata": {
  "language_info": {
   "codemirror_mode": {
    "name": "ipython",
    "version": 3
   },
   "file_extension": ".py",
   "mimetype": "text/x-python",
   "name": "python",
   "nbconvert_exporter": "python",
   "pygments_lexer": "ipython3",
   "version": 3
  },
  "orig_nbformat": 2,
  "kernelspec": {
   "name": "python_defaultSpec_1596132698159",
   "display_name": "Python 3.8.2 32-bit"
  }
 },
 "nbformat": 4,
 "nbformat_minor": 2
}